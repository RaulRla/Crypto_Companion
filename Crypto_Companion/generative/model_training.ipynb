{
 "cells": [
  {
   "cell_type": "code",
   "execution_count": 1,
   "metadata": {},
   "outputs": [],
   "source": [
    "import pandas as pd\n",
    "from datasets import load_dataset\n",
    "from transformers import GPT2Tokenizer, GPT2LMHeadModel, GPT2Config, AutoTokenizer, AutoModelForCausalLM\n",
    "from torch.utils.data import Dataset, DataLoader\n",
    "from torch.nn.utils.rnn import pad_sequence\n",
    "from torch.nn import CrossEntropyLoss\n",
    "from transformers import AdamW\n",
    "import torch\n",
    "from tqdm.auto import tqdm\n"
   ]
  },
  {
   "cell_type": "code",
   "execution_count": 2,
   "metadata": {},
   "outputs": [],
   "source": [
    "# Load your dataset\n",
    "df = pd.read_csv(\"../data_set/Crypto_QA.csv\")\n",
    "# Concatenate question, context, and expected_answer to form the input text\n",
    "df['input_text'] = df['question'] + \" \" + df['context'] + \" \" + df['expected_answer']"
   ]
  },
  {
   "cell_type": "code",
   "execution_count": 3,
   "metadata": {},
   "outputs": [
    {
     "data": {
      "text/html": [
       "<div>\n",
       "<style scoped>\n",
       "    .dataframe tbody tr th:only-of-type {\n",
       "        vertical-align: middle;\n",
       "    }\n",
       "\n",
       "    .dataframe tbody tr th {\n",
       "        vertical-align: top;\n",
       "    }\n",
       "\n",
       "    .dataframe thead th {\n",
       "        text-align: right;\n",
       "    }\n",
       "</style>\n",
       "<table border=\"1\" class=\"dataframe\">\n",
       "  <thead>\n",
       "    <tr style=\"text-align: right;\">\n",
       "      <th></th>\n",
       "      <th>id</th>\n",
       "      <th>question</th>\n",
       "      <th>context</th>\n",
       "      <th>expected_answer</th>\n",
       "      <th>input_text</th>\n",
       "    </tr>\n",
       "  </thead>\n",
       "  <tbody>\n",
       "    <tr>\n",
       "      <th>0</th>\n",
       "      <td>1</td>\n",
       "      <td>What is cryptocurrency?</td>\n",
       "      <td>Cryptocurrency is a type of digital or virtual...</td>\n",
       "      <td>Cryptocurrency is a type of digital or virtual...</td>\n",
       "      <td>What is cryptocurrency? Cryptocurrency is a ty...</td>\n",
       "    </tr>\n",
       "    <tr>\n",
       "      <th>1</th>\n",
       "      <td>2</td>\n",
       "      <td>How does blockchain work?</td>\n",
       "      <td>Blockchain is a distributed ledger technology ...</td>\n",
       "      <td>Blockchain is a distributed ledger technology ...</td>\n",
       "      <td>How does blockchain work? Blockchain is a dist...</td>\n",
       "    </tr>\n",
       "    <tr>\n",
       "      <th>2</th>\n",
       "      <td>3</td>\n",
       "      <td>What is Bitcoin?</td>\n",
       "      <td>Bitcoin is the first and most well-known crypt...</td>\n",
       "      <td>Bitcoin is the first and most well-known crypt...</td>\n",
       "      <td>What is Bitcoin? Bitcoin is the first and most...</td>\n",
       "    </tr>\n",
       "    <tr>\n",
       "      <th>3</th>\n",
       "      <td>4</td>\n",
       "      <td>Explain the concept of mining in cryptocurrency.</td>\n",
       "      <td>Mining is the process by which transactions ar...</td>\n",
       "      <td>Mining is the process by which transactions ar...</td>\n",
       "      <td>Explain the concept of mining in cryptocurrenc...</td>\n",
       "    </tr>\n",
       "    <tr>\n",
       "      <th>4</th>\n",
       "      <td>5</td>\n",
       "      <td>What is a smart contract?</td>\n",
       "      <td>A smart contract is a self-executing contract ...</td>\n",
       "      <td>A smart contract is a self-executing contract ...</td>\n",
       "      <td>What is a smart contract? A smart contract is ...</td>\n",
       "    </tr>\n",
       "  </tbody>\n",
       "</table>\n",
       "</div>"
      ],
      "text/plain": [
       "   id                                          question  \\\n",
       "0   1                           What is cryptocurrency?   \n",
       "1   2                         How does blockchain work?   \n",
       "2   3                                  What is Bitcoin?   \n",
       "3   4  Explain the concept of mining in cryptocurrency.   \n",
       "4   5                         What is a smart contract?   \n",
       "\n",
       "                                             context  \\\n",
       "0  Cryptocurrency is a type of digital or virtual...   \n",
       "1  Blockchain is a distributed ledger technology ...   \n",
       "2  Bitcoin is the first and most well-known crypt...   \n",
       "3  Mining is the process by which transactions ar...   \n",
       "4  A smart contract is a self-executing contract ...   \n",
       "\n",
       "                                     expected_answer  \\\n",
       "0  Cryptocurrency is a type of digital or virtual...   \n",
       "1  Blockchain is a distributed ledger technology ...   \n",
       "2  Bitcoin is the first and most well-known crypt...   \n",
       "3  Mining is the process by which transactions ar...   \n",
       "4  A smart contract is a self-executing contract ...   \n",
       "\n",
       "                                          input_text  \n",
       "0  What is cryptocurrency? Cryptocurrency is a ty...  \n",
       "1  How does blockchain work? Blockchain is a dist...  \n",
       "2  What is Bitcoin? Bitcoin is the first and most...  \n",
       "3  Explain the concept of mining in cryptocurrenc...  \n",
       "4  What is a smart contract? A smart contract is ...  "
      ]
     },
     "execution_count": 3,
     "metadata": {},
     "output_type": "execute_result"
    }
   ],
   "source": [
    "df.head()"
   ]
  },
  {
   "cell_type": "code",
   "execution_count": 4,
   "metadata": {},
   "outputs": [],
   "source": [
    "# Tokenize the dataset\n",
    "tokenizer = GPT2Tokenizer.from_pretrained(\"gpt2-medium\")\n",
    "tokenizer.pad_token = tokenizer.eos_token\n",
    "df['tokenized_text'] = df['input_text'].apply(lambda x: tokenizer.encode(x, add_special_tokens=True))\n"
   ]
  },
  {
   "cell_type": "code",
   "execution_count": 5,
   "metadata": {},
   "outputs": [],
   "source": [
    "# PyTorch Dataset\n",
    "class CustomDataset(Dataset):\n",
    "    def __init__(self, tokenized_texts):\n",
    "        self.tokenized_texts = tokenized_texts\n",
    "\n",
    "    def __len__(self):\n",
    "        return len(self.tokenized_texts)\n",
    "\n",
    "    def __getitem__(self, idx):\n",
    "        return torch.tensor(self.tokenized_texts[idx], dtype=torch.long)\n"
   ]
  },
  {
   "cell_type": "code",
   "execution_count": 6,
   "metadata": {},
   "outputs": [],
   "source": [
    "# Collate function for DataLoader\n",
    "def collate_batch(batch):\n",
    "    max_len = max(len(seq) for seq in batch if seq is not None)\n",
    "    \n",
    "    padded_batch = torch.stack([torch.cat([torch.tensor(seq, dtype=torch.long), torch.tensor([tokenizer.pad_token_id] * (max_len - len(seq)), dtype=torch.long)]) if seq is not None else torch.zeros(max_len, dtype=torch.long) for seq in batch])\n",
    "    \n",
    "    return padded_batch\n"
   ]
  },
  {
   "cell_type": "code",
   "execution_count": 7,
   "metadata": {},
   "outputs": [],
   "source": [
    "# dataset and dataloader\n",
    "dataset = CustomDataset(df['tokenized_text'].tolist())\n",
    "dataloader = DataLoader(dataset, batch_size=2, collate_fn=collate_batch)\n"
   ]
  },
  {
   "cell_type": "code",
   "execution_count": 8,
   "metadata": {},
   "outputs": [
    {
     "name": "stderr",
     "output_type": "stream",
     "text": [
      "c:\\Users\\RaulR\\anaconda3\\Lib\\site-packages\\transformers\\optimization.py:429: FutureWarning: This implementation of AdamW is deprecated and will be removed in a future version. Use the PyTorch implementation torch.optim.AdamW instead, or set `no_deprecation_warning=True` to disable this warning\n",
      "  warnings.warn(\n"
     ]
    }
   ],
   "source": [
    "# model and optimizer\n",
    "config = GPT2Config.from_pretrained(\"gpt2-medium\")\n",
    "model = GPT2LMHeadModel.from_pretrained(\"gpt2-medium\", config=config)\n",
    "optimizer = AdamW(model.parameters(), lr=5e-5)\n"
   ]
  },
  {
   "cell_type": "code",
   "execution_count": 9,
   "metadata": {},
   "outputs": [],
   "source": [
    "# Training loop\n",
    "device = torch.device(\"cuda\" if torch.cuda.is_available() else \"cpu\")\n",
    "model.to(device)\n",
    "\n",
    "num_epochs = 3\n"
   ]
  },
  {
   "cell_type": "code",
   "execution_count": 10,
   "metadata": {},
   "outputs": [
    {
     "data": {
      "application/vnd.jupyter.widget-view+json": {
       "model_id": "392b17b5400944f09a179f9e1cb42261",
       "version_major": 2,
       "version_minor": 0
      },
      "text/plain": [
       "Epoch 1/3:   0%|          | 0/258 [00:00<?, ?it/s]"
      ]
     },
     "metadata": {},
     "output_type": "display_data"
    },
    {
     "name": "stderr",
     "output_type": "stream",
     "text": [
      "C:\\Users\\RaulR\\AppData\\Local\\Temp\\ipykernel_23828\\1179933176.py:5: UserWarning: To copy construct from a tensor, it is recommended to use sourceTensor.clone().detach() or sourceTensor.clone().detach().requires_grad_(True), rather than torch.tensor(sourceTensor).\n",
      "  padded_batch = torch.stack([torch.cat([torch.tensor(seq, dtype=torch.long), torch.tensor([tokenizer.pad_token_id] * (max_len - len(seq)), dtype=torch.long)]) if seq is not None else torch.zeros(max_len, dtype=torch.long) for seq in batch])\n"
     ]
    },
    {
     "data": {
      "application/vnd.jupyter.widget-view+json": {
       "model_id": "fb7dd55a0e394afdb19d2737b7152942",
       "version_major": 2,
       "version_minor": 0
      },
      "text/plain": [
       "Epoch 2/3:   0%|          | 0/258 [00:00<?, ?it/s]"
      ]
     },
     "metadata": {},
     "output_type": "display_data"
    },
    {
     "data": {
      "application/vnd.jupyter.widget-view+json": {
       "model_id": "a3421300c4a045b0a3bcf3348eabbee8",
       "version_major": 2,
       "version_minor": 0
      },
      "text/plain": [
       "Epoch 3/3:   0%|          | 0/258 [00:00<?, ?it/s]"
      ]
     },
     "metadata": {},
     "output_type": "display_data"
    }
   ],
   "source": [
    "for epoch in range(num_epochs):\n",
    "    progress_bar = tqdm(dataloader, desc=f\"Epoch {epoch + 1}/{num_epochs}\")\n",
    "\n",
    "    for batch in progress_bar:\n",
    "        batch = batch.to(device)\n",
    "        optimizer.zero_grad()\n",
    "\n",
    "        outputs = model(input_ids=batch, labels=batch)\n",
    "        loss = outputs.loss\n",
    "        loss.backward()\n",
    "\n",
    "        optimizer.step()\n",
    "\n",
    "        progress_bar.set_postfix({'Loss': loss.item()})\n"
   ]
  },
  {
   "cell_type": "code",
   "execution_count": 11,
   "metadata": {},
   "outputs": [
    {
     "data": {
      "application/vnd.jupyter.widget-view+json": {
       "model_id": "30b36ba42a384cea919ad4b48aa9db81",
       "version_major": 2,
       "version_minor": 0
      },
      "text/plain": [
       "Evaluating:   0%|          | 0/258 [00:00<?, ?it/s]"
      ]
     },
     "metadata": {},
     "output_type": "display_data"
    },
    {
     "name": "stderr",
     "output_type": "stream",
     "text": [
      "C:\\Users\\RaulR\\AppData\\Local\\Temp\\ipykernel_23828\\1179933176.py:5: UserWarning: To copy construct from a tensor, it is recommended to use sourceTensor.clone().detach() or sourceTensor.clone().detach().requires_grad_(True), rather than torch.tensor(sourceTensor).\n",
      "  padded_batch = torch.stack([torch.cat([torch.tensor(seq, dtype=torch.long), torch.tensor([tokenizer.pad_token_id] * (max_len - len(seq)), dtype=torch.long)]) if seq is not None else torch.zeros(max_len, dtype=torch.long) for seq in batch])\n"
     ]
    },
    {
     "name": "stdout",
     "output_type": "stream",
     "text": [
      "Perplexity: 1.5158318281173706\n"
     ]
    }
   ],
   "source": [
    "from torch.nn import CrossEntropyLoss\n",
    "from tqdm.auto import tqdm\n",
    "\n",
    "# Set the model to evaluation mode\n",
    "model.eval()\n",
    "\n",
    "# Initialize CrossEntropyLoss for evaluation\n",
    "eval_loss = CrossEntropyLoss()\n",
    "\n",
    "# Initialize the evaluation dataloader\n",
    "eval_dataloader = DataLoader(dataset, batch_size=2, collate_fn=collate_batch)\n",
    "\n",
    "# Initialize a variable to accumulate total loss\n",
    "total_loss = 0.0\n",
    "\n",
    "# Iterate through the evaluation dataset\n",
    "for batch in tqdm(eval_dataloader, desc=\"Evaluating\"):\n",
    "    batch = batch.to(device)\n",
    "\n",
    "    # No need to compute gradients during evaluation\n",
    "    with torch.no_grad():\n",
    "        outputs = model(input_ids=batch, labels=batch)\n",
    "        loss = outputs.loss\n",
    "        total_loss += loss.item()\n",
    "\n",
    "# Calculate the average loss over the evaluation dataset\n",
    "average_loss = total_loss / len(eval_dataloader)\n",
    "\n",
    "# Calculate perplexity\n",
    "perplexity = torch.exp(torch.tensor(average_loss))\n",
    "\n",
    "print(f\"Perplexity: {perplexity.item()}\")\n"
   ]
  },
  {
   "cell_type": "code",
   "execution_count": 14,
   "metadata": {},
   "outputs": [
    {
     "data": {
      "text/plain": [
       "('gpt-2_medium/gpt2_medium_crypto\\\\tokenizer_config.json',\n",
       " 'gpt-2_medium/gpt2_medium_crypto\\\\special_tokens_map.json',\n",
       " 'gpt-2_medium/gpt2_medium_crypto\\\\vocab.json',\n",
       " 'gpt-2_medium/gpt2_medium_crypto\\\\merges.txt',\n",
       " 'gpt-2_medium/gpt2_medium_crypto\\\\added_tokens.json')"
      ]
     },
     "execution_count": 14,
     "metadata": {},
     "output_type": "execute_result"
    }
   ],
   "source": [
    "# Save the trained model\n",
    "model.save_pretrained(\"streamlit/gpt-2_medium/gpt2_medium_crypto\")\n",
    "tokenizer.save_pretrained(\"streamlit/gpt-2_medium/gpt2_medium_crypto\")"
   ]
  },
  {
   "cell_type": "code",
   "execution_count": 17,
   "metadata": {},
   "outputs": [
    {
     "name": "stderr",
     "output_type": "stream",
     "text": [
      "The attention mask and the pad token id were not set. As a consequence, you may observe unexpected behavior. Please pass your input's `attention_mask` to obtain reliable results.\n",
      "Setting `pad_token_id` to `eos_token_id`:50256 for open-end generation.\n"
     ]
    },
    {
     "name": "stdout",
     "output_type": "stream",
     "text": [
      "Input Question: What is a ledger?\n",
      "Generated Response: What is a ledger? A ledger is a record of transactions across multiple blockchain platforms, providing transparency and security benefits. A ledger is a record of transactions across multiple blockchain platforms, providing transparency and security benefits.\n"
     ]
    }
   ],
   "source": [
    "from transformers import GPT2LMHeadModel, GPT2Tokenizer\n",
    "\n",
    "# Load the trained model and tokenizer\n",
    "model_path = \"gpt-2_medium/gpt2_medium_crypto\"\n",
    "tokenizer = GPT2Tokenizer.from_pretrained(model_path)\n",
    "model = GPT2LMHeadModel.from_pretrained(model_path)\n",
    "\n",
    "# Set the device (GPU or CPU)\n",
    "device = torch.device(\"cuda\" if torch.cuda.is_available() else \"cpu\")\n",
    "model.to(device)\n",
    "\n",
    "# Example question\n",
    "sample_question = \"What is a ledger?\"\n",
    "\n",
    "# Tokenize the question\n",
    "tokenized_question = tokenizer.encode(sample_question, add_special_tokens=True)\n",
    "\n",
    "# Convert the tokenized question to a PyTorch tensor\n",
    "input_tensor = torch.tensor(tokenized_question, dtype=torch.long).unsqueeze(0).to(device)\n",
    "\n",
    "# Generate a response from the loaded model\n",
    "with torch.no_grad():\n",
    "    generated_output = model.generate(input_ids=input_tensor, max_length=100, num_beams=5, temperature=0.7)\n",
    "\n",
    "# Decode the generated tokens to get the final response\n",
    "generated_response = tokenizer.decode(generated_output[0], skip_special_tokens=True)\n",
    "\n",
    "# Print the results\n",
    "print(f\"Input Question: {sample_question}\")\n",
    "print(f\"Generated Response: {generated_response}\")\n"
   ]
  }
 ],
 "metadata": {
  "kernelspec": {
   "display_name": "base",
   "language": "python",
   "name": "python3"
  },
  "language_info": {
   "codemirror_mode": {
    "name": "ipython",
    "version": 3
   },
   "file_extension": ".py",
   "mimetype": "text/x-python",
   "name": "python",
   "nbconvert_exporter": "python",
   "pygments_lexer": "ipython3",
   "version": "3.11.5"
  }
 },
 "nbformat": 4,
 "nbformat_minor": 2
}
